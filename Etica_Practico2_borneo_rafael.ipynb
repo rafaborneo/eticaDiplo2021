{
  "nbformat": 4,
  "nbformat_minor": 0,
  "metadata": {
    "colab": {
      "name": "Etica_Practico2_borneo_rafael.ipynb",
      "provenance": [],
      "authorship_tag": "ABX9TyOXtqZx10+QB1C60HqYbuSS",
      "include_colab_link": true
    },
    "kernelspec": {
      "name": "python3",
      "display_name": "Python 3"
    },
    "language_info": {
      "name": "python"
    }
  },
  "cells": [
    {
      "cell_type": "markdown",
      "metadata": {
        "id": "view-in-github",
        "colab_type": "text"
      },
      "source": [
        "<a href=\"https://colab.research.google.com/github/rafaborneo/eticaDiplo2021/blob/main/Etica_Practico2_borneo_rafael.ipynb\" target=\"_parent\"><img src=\"https://colab.research.google.com/assets/colab-badge.svg\" alt=\"Open In Colab\"/></a>"
      ]
    },
    {
      "cell_type": "markdown",
      "metadata": {
        "id": "jchkkMZYOHDV"
      },
      "source": [
        "**Diplomatura en Ciencia de Datos, Aprendizaje Automático y sus Aplicaciones** **DIPLODATOS 2021**\n",
        "\n",
        "---\n",
        "\n",
        "## **Práctico 2: \"MITIGANDO SESGOS en Aprendizaje Automático\".**\n",
        "\n",
        "**ALUMNO: Borneo Benista, Rafael**\n"
      ]
    },
    {
      "cell_type": "markdown",
      "metadata": {
        "id": "tiJBU2ZgOmkT"
      },
      "source": [
        "# **Parte 0: Instalación de librerias necesarias ara el práctico**"
      ]
    },
    {
      "cell_type": "markdown",
      "metadata": {
        "id": "6qXbn2FTW2pK"
      },
      "source": [
        ""
      ]
    },
    {
      "cell_type": "code",
      "metadata": {
        "colab": {
          "base_uri": "https://localhost:8080/",
          "height": 712
        },
        "id": "Gvq-H1zUN8nq",
        "outputId": "5996fb29-eddb-49f9-9262-394ba05c3848"
      },
      "source": [
        "!pip install --user responsibly"
      ],
      "execution_count": 1,
      "outputs": [
        {
          "output_type": "stream",
          "name": "stdout",
          "text": [
            "Collecting responsibly\n",
            "  Downloading responsibly-0.1.3-py3-none-any.whl (28.2 MB)\n",
            "\u001b[K     |████████████████████████████████| 28.2 MB 59.4 MB/s \n",
            "\u001b[?25hRequirement already satisfied: mlxtend<0.17,>=0.13 in /usr/local/lib/python3.7/dist-packages (from responsibly) (0.14.0)\n",
            "Requirement already satisfied: six>=1.10 in /usr/local/lib/python3.7/dist-packages (from responsibly) (1.15.0)\n",
            "Requirement already satisfied: scikit-learn>=0.19 in /usr/local/lib/python3.7/dist-packages (from responsibly) (1.0.1)\n",
            "Requirement already satisfied: seaborn>=0.9 in /usr/local/lib/python3.7/dist-packages (from responsibly) (0.11.2)\n",
            "Collecting matplotlib<3,>=2.2\n",
            "  Downloading matplotlib-2.2.5-cp37-cp37m-manylinux1_x86_64.whl (12.8 MB)\n",
            "\u001b[K     |████████████████████████████████| 12.8 MB 66.9 MB/s \n",
            "\u001b[?25hRequirement already satisfied: tabulate>=0.8 in /usr/local/lib/python3.7/dist-packages (from responsibly) (0.8.9)\n",
            "Requirement already satisfied: numpy>=1.15 in /usr/local/lib/python3.7/dist-packages (from responsibly) (1.19.5)\n",
            "Collecting gensim<3.8,>=3.7\n",
            "  Downloading gensim-3.7.3-cp37-cp37m-manylinux1_x86_64.whl (24.2 MB)\n",
            "\u001b[K     |████████████████████████████████| 24.2 MB 1.6 MB/s \n",
            "\u001b[?25hRequirement already satisfied: click>=6.0 in /usr/local/lib/python3.7/dist-packages (from responsibly) (7.1.2)\n",
            "Requirement already satisfied: tqdm>=4.24 in /usr/local/lib/python3.7/dist-packages (from responsibly) (4.62.3)\n",
            "Requirement already satisfied: pandas>=0.23 in /usr/local/lib/python3.7/dist-packages (from responsibly) (1.1.5)\n",
            "Requirement already satisfied: scipy>=1.1 in /usr/local/lib/python3.7/dist-packages (from responsibly) (1.4.1)\n",
            "Requirement already satisfied: smart-open>=1.7.0 in /usr/local/lib/python3.7/dist-packages (from gensim<3.8,>=3.7->responsibly) (5.2.1)\n",
            "Requirement already satisfied: cycler>=0.10 in /usr/local/lib/python3.7/dist-packages (from matplotlib<3,>=2.2->responsibly) (0.11.0)\n",
            "Requirement already satisfied: kiwisolver>=1.0.1 in /usr/local/lib/python3.7/dist-packages (from matplotlib<3,>=2.2->responsibly) (1.3.2)\n",
            "Requirement already satisfied: pytz in /usr/local/lib/python3.7/dist-packages (from matplotlib<3,>=2.2->responsibly) (2018.9)\n",
            "Requirement already satisfied: python-dateutil>=2.1 in /usr/local/lib/python3.7/dist-packages (from matplotlib<3,>=2.2->responsibly) (2.8.2)\n",
            "Requirement already satisfied: pyparsing!=2.0.4,!=2.1.2,!=2.1.6,>=2.0.1 in /usr/local/lib/python3.7/dist-packages (from matplotlib<3,>=2.2->responsibly) (3.0.6)\n",
            "Requirement already satisfied: setuptools in /usr/local/lib/python3.7/dist-packages (from mlxtend<0.17,>=0.13->responsibly) (57.4.0)\n",
            "Requirement already satisfied: threadpoolctl>=2.0.0 in /usr/local/lib/python3.7/dist-packages (from scikit-learn>=0.19->responsibly) (3.0.0)\n",
            "Requirement already satisfied: joblib>=0.11 in /usr/local/lib/python3.7/dist-packages (from scikit-learn>=0.19->responsibly) (1.1.0)\n",
            "Installing collected packages: matplotlib, gensim, responsibly\n",
            "\u001b[31mERROR: pip's dependency resolver does not currently take into account all the packages that are installed. This behaviour is the source of the following dependency conflicts.\n",
            "plotnine 0.6.0 requires matplotlib>=3.1.1, but you have matplotlib 2.2.5 which is incompatible.\n",
            "mizani 0.6.0 requires matplotlib>=3.1.1, but you have matplotlib 2.2.5 which is incompatible.\n",
            "arviz 0.11.4 requires matplotlib>=3.0, but you have matplotlib 2.2.5 which is incompatible.\n",
            "albumentations 0.1.12 requires imgaug<0.2.7,>=0.2.5, but you have imgaug 0.2.9 which is incompatible.\u001b[0m\n",
            "Successfully installed gensim-3.7.3 matplotlib-2.2.5 responsibly-0.1.3\n"
          ]
        },
        {
          "output_type": "display_data",
          "data": {
            "application/vnd.colab-display-data+json": {
              "pip_warning": {
                "packages": [
                  "matplotlib",
                  "mpl_toolkits"
                ]
              }
            }
          },
          "metadata": {}
        }
      ]
    },
    {
      "cell_type": "code",
      "metadata": {
        "colab": {
          "base_uri": "https://localhost:8080/",
          "height": 35
        },
        "id": "xjTFENApPNvO",
        "outputId": "9582bf59-9668-4f5d-b011-7f27b4825569"
      },
      "source": [
        "import responsibly\n",
        "\n",
        "responsibly.__version__"
      ],
      "execution_count": 1,
      "outputs": [
        {
          "output_type": "execute_result",
          "data": {
            "application/vnd.google.colaboratory.intrinsic+json": {
              "type": "string"
            },
            "text/plain": [
              "'0.1.3'"
            ]
          },
          "metadata": {},
          "execution_count": 1
        }
      ]
    },
    {
      "cell_type": "code",
      "metadata": {
        "id": "5_k55gyHPSbR"
      },
      "source": [
        "import warnings\n",
        "warnings.filterwarnings('ignore')"
      ],
      "execution_count": 2,
      "outputs": []
    },
    {
      "cell_type": "code",
      "metadata": {
        "colab": {
          "base_uri": "https://localhost:8080/"
        },
        "id": "Ys7yVtcTPSZD",
        "outputId": "7622ebf0-2e2d-44d6-9a7c-7b5c6f7154ad"
      },
      "source": [
        "import numpy as np\n",
        "import logging\n",
        "\n",
        "from numpy.linalg import norm\n",
        "from gensim.models import KeyedVectors\n",
        "from sklearn.metrics import classification_report, accuracy_score\n",
        "\n",
        "logging.basicConfig(format='%(asctime)s : %(message)s', level=logging.INFO)\n",
        "\n",
        "!wget -q http://dcc.uchile.cl/~jperez/word-embeddings/fasttext-sbwc.100k.vec.gz\n",
        "\n",
        "!gzip -d -q fasttext-sbwc.100k.vec.gz\n",
        "!ls"
      ],
      "execution_count": 3,
      "outputs": [
        {
          "output_type": "stream",
          "name": "stdout",
          "text": [
            "fasttext-sbwc.100k.vec\tsample_data\n"
          ]
        }
      ]
    },
    {
      "cell_type": "code",
      "metadata": {
        "colab": {
          "base_uri": "https://localhost:8080/"
        },
        "id": "g8smNnHnPSVc",
        "outputId": "cd43f62d-df55-42bf-9340-9da7fce3f6d0"
      },
      "source": [
        "we_es = KeyedVectors.load_word2vec_format('fasttext-sbwc.100k.vec')\n",
        "\n",
        "we_es.init_sims(replace=True)"
      ],
      "execution_count": 4,
      "outputs": [
        {
          "output_type": "stream",
          "name": "stderr",
          "text": [
            "2021-12-05 10:58:36,860 : loading projection weights from fasttext-sbwc.100k.vec\n",
            "2021-12-05 10:59:07,504 : loaded (100000, 300) matrix from fasttext-sbwc.100k.vec\n",
            "2021-12-05 10:59:07,506 : precomputing L2-norms of word weight vectors\n"
          ]
        }
      ]
    },
    {
      "cell_type": "code",
      "metadata": {
        "id": "ndM00f32PST7"
      },
      "source": [
        "from numpy.testing import assert_almost_equal\n",
        "\n",
        "length_vectors = norm(we_es.vectors_norm, axis=1)\n",
        "\n",
        "assert_almost_equal(actual=length_vectors,\n",
        "                    desired=1,\n",
        "                    decimal=5)"
      ],
      "execution_count": 5,
      "outputs": []
    },
    {
      "cell_type": "markdown",
      "metadata": {
        "id": "C6u4CKY-QN7C"
      },
      "source": [
        "# 1. **ALGUNAS PALABRAS CON SESGO EN EL EJE JUVENTUD_VEJEZ (JOVEN_VIEJO): EJE BINARIO PARA SIMPLIFICAR**"
      ]
    },
    {
      "cell_type": "code",
      "metadata": {
        "colab": {
          "base_uri": "https://localhost:8080/"
        },
        "id": "DDlW_fkhQ3z1",
        "outputId": "1a2f144d-b499-4d5f-8b38-431da6e3f423"
      },
      "source": [
        "# vejez es a adicción lo que joven es a.....\n",
        "we_es.most_similar(positive=['adicción', 'juventud'],negative=['vejez'])"
      ],
      "execution_count": 7,
      "outputs": [
        {
          "output_type": "execute_result",
          "data": {
            "text/plain": [
              "[('adicciones', 0.5689460039138794),\n",
              " ('drogadicción', 0.5495569705963135),\n",
              " ('adicto', 0.5482889413833618),\n",
              " ('drogas', 0.5420212745666504),\n",
              " ('alcoholismo', 0.5117813348770142),\n",
              " ('adictiva', 0.5112063884735107),\n",
              " ('adictivas', 0.5108566880226135),\n",
              " ('adictos', 0.5075235366821289),\n",
              " ('farmacodependencia', 0.5029911994934082),\n",
              " ('adicta', 0.5021463632583618)]"
            ]
          },
          "metadata": {},
          "execution_count": 7
        }
      ]
    },
    {
      "cell_type": "code",
      "metadata": {
        "colab": {
          "base_uri": "https://localhost:8080/"
        },
        "id": "3vN9z6XcPSQo",
        "outputId": "a4c9f105-a3dc-4b81-f8eb-ea1fed431c6c"
      },
      "source": [
        "# juventud es a adicción lo que viejo es a.....\n",
        "we_es.most_similar(positive=['adicción', 'vejez'],negative=['juventud'])"
      ],
      "execution_count": 6,
      "outputs": [
        {
          "output_type": "execute_result",
          "data": {
            "text/plain": [
              "[('enfermedad', 0.6032508611679077),\n",
              " ('demencia', 0.5731257200241089),\n",
              " ('degenerativa', 0.5455186367034912),\n",
              " ('esquizofrenia', 0.5345392227172852),\n",
              " ('alcoholismo', 0.5247284173965454),\n",
              " ('psicóticos', 0.5245453715324402),\n",
              " ('alzheimer', 0.5220963358879089),\n",
              " ('invalidez', 0.5216646194458008),\n",
              " ('depresivos', 0.5183150172233582),\n",
              " ('degenerativas', 0.5173851847648621)]"
            ]
          },
          "metadata": {},
          "execution_count": 6
        }
      ]
    },
    {
      "cell_type": "code",
      "metadata": {
        "id": "Bcn7vqYMPSOv"
      },
      "source": [
        "OBSERVACION vejez esta asociada a enfermedad, demencia , mintras que juventud a la adiccion."
      ],
      "execution_count": null,
      "outputs": []
    },
    {
      "cell_type": "markdown",
      "metadata": {
        "id": "VpTYP0JfR78W"
      },
      "source": [
        "**DIRECCION EN EJE EDAD (JUVENTUD VEJEZ)**"
      ]
    },
    {
      "cell_type": "code",
      "metadata": {
        "colab": {
          "base_uri": "https://localhost:8080/"
        },
        "id": "Nvt6UhQBR5tt",
        "outputId": "a0c11b1c-fd64-4602-a2df-14ca713f6780"
      },
      "source": [
        "from responsibly.we import BiasWordEmbedding\n",
        "\n",
        "we_es_age= BiasWordEmbedding(we_es, only_lower=True)"
      ],
      "execution_count": 8,
      "outputs": [
        {
          "output_type": "stream",
          "name": "stderr",
          "text": [
            "2021-12-05 11:08:53,544 : precomputing L2-norms of word weight vectors\n"
          ]
        }
      ]
    },
    {
      "cell_type": "code",
      "metadata": {
        "id": "FlM5HLdNR5nu"
      },
      "source": [
        "d_juventud = ['juventud']\n",
        "d_vejez = ['vejez']\n",
        "\n",
        "we_es_age._identify_direction('juventud', 'vejez',\n",
        "                                          definitional=(d_juventud, d_vejez),\n",
        "                                          method='sum')"
      ],
      "execution_count": 9,
      "outputs": []
    },
    {
      "cell_type": "code",
      "metadata": {
        "id": "SPPvZsuKR5js"
      },
      "source": [
        "direction_es = we_es_age.direction\n",
        "\n",
        "direction_es /= norm(direction_es)"
      ],
      "execution_count": 10,
      "outputs": []
    },
    {
      "cell_type": "code",
      "metadata": {
        "colab": {
          "base_uri": "https://localhost:8080/"
        },
        "id": "AwcpPbXBR5hs",
        "outputId": "d6820362-e767-47fb-b76b-f9d0647434f4"
      },
      "source": [
        "#DOS EJEMPLOS\n",
        "#enfermedad se direcciona a la vejez, adiccion a la juventud \n",
        "\n",
        "direction_es @ we_es.word_vec('enfermedad'),direction_es @ we_es.word_vec('adicción')"
      ],
      "execution_count": 12,
      "outputs": [
        {
          "output_type": "execute_result",
          "data": {
            "text/plain": [
              "(-0.32211286, 0.013389375)"
            ]
          },
          "metadata": {},
          "execution_count": 12
        }
      ]
    },
    {
      "cell_type": "markdown",
      "metadata": {
        "id": "BY01kfu1TeCa"
      },
      "source": [
        "**BIAS EN LAS PROFESIONES**"
      ]
    },
    {
      "cell_type": "code",
      "metadata": {
        "id": "yLrkYYwiTc39"
      },
      "source": [
        "profesiones = [\n",
        "    'chofer',\n",
        "    'columnista',\n",
        "    'publicista',\n",
        "    'naturista',\n",
        "    'asistente',\n",
        "    'taxista',\n",
        "    'psiquiatra',\n",
        "    'policia',\n",
        "    'dentista',\n",
        "    'florista',\n",
        "    'docente',\n",
        "    'periodista',\n",
        "    'electricista',\n",
        "    'economista',\n",
        "    'atleta',\n",
        "    'terapeuta',\n",
        "    'piloto',\n",
        "    'modelo',\n",
        "    'estudiante',\n",
        "    'comerciante',\n",
        "    'chef',\n",
        "    'cantante',\n",
        "    'militar',\n",
        "    'agricultor',\n",
        "    'artesano',\n",
        "    'cajero',\n",
        "    'plomero',\n",
        "    'mecánico',\n",
        "    'obrero',\n",
        "    'panadero',\n",
        "    'repartidor',\n",
        "    'soldador',\n",
        "    'vendedor',\n",
        "    'vigilante',\n",
        "    'secretario',\n",
        "    'pescador',\n",
        "    'peluquero',\n",
        "    'jardinero',\n",
        "    'enfermera',\n",
        "    'carpintero',\n",
        "    'carnicero',\n",
        "    'bibliotecario',\n",
        "    'albañil',\n",
        "    'abogado', \n",
        "    'arquitecto',\n",
        "    'contador',\n",
        "    'farmacéutico',\n",
        "    'ingeniero', \n",
        "    'médico',\n",
        "    'político',\n",
        "    'empresario', \n",
        "    'científico',\n",
        "    'informático'\n",
        "]"
      ],
      "execution_count": 15,
      "outputs": []
    },
    {
      "cell_type": "code",
      "metadata": {
        "colab": {
          "base_uri": "https://localhost:8080/",
          "height": 638
        },
        "id": "FkHt2pf7Tc0E",
        "outputId": "837eb325-14e1-44cf-8629-223e9152d8b3"
      },
      "source": [
        "import matplotlib.pylab as plt\n",
        "\n",
        "f, ax = plt.subplots(1, figsize=(10, 10))\n",
        "\n",
        "we_es_age.plot_projection_scores(\n",
        "    profesiones + d_juventud[:1] + d_vejez[:1],\n",
        "    n_extreme=30,\n",
        "    ax=ax);"
      ],
      "execution_count": 18,
      "outputs": [
        {
          "output_type": "stream",
          "name": "stderr",
          "text": [
            "2021-12-05 11:18:09,296 : NumExpr defaulting to 2 threads.\n"
          ]
        },
        {
          "output_type": "display_data",
          "data": {
            "image/png": "[encoded data removed]",
            "text/plain": [
              "<Figure size 720x720 with 1 Axes>"
            ]
          },
          "metadata": {
            "needs_background": "light"
          }
        }
      ]
    },
    {
      "cell_type": "markdown",
      "metadata": {
        "id": "qiCRBBqgURBt"
      },
      "source": [
        "**EL GRAFICO MUESTRA CLARAMENTE EL SESGO EXISTENTE EN LAS PROFESIONES EN EL EJE JUVENTUD VEJEZ----EDAD **"
      ]
    },
    {
      "cell_type": "code",
      "metadata": {
        "colab": {
          "base_uri": "https://localhost:8080/"
        },
        "id": "mxmYtdQITcxt",
        "outputId": "bd1d0b0a-ff3e-4abb-841b-40803c5f0703"
      },
      "source": [
        "#CALCULOO DEL BIAS\n",
        "we_es_age.calc_direct_bias(profesiones, c=None)"
      ],
      "execution_count": 19,
      "outputs": [
        {
          "output_type": "execute_result",
          "data": {
            "text/plain": [
              "0.0524188604377175"
            ]
          },
          "metadata": {},
          "execution_count": 19
        }
      ]
    },
    {
      "cell_type": "markdown",
      "metadata": {
        "id": "XgbGBzP3Xdly"
      },
      "source": [
        "**APLICACION METODO DE NEUTRALIZACION DEL BIAS**"
      ]
    },
    {
      "cell_type": "code",
      "metadata": {
        "colab": {
          "base_uri": "https://localhost:8080/"
        },
        "id": "kA5cHXjdTcto",
        "outputId": "f278759f-13cc-4c74-c8f3-a5c8fc36e1c6"
      },
      "source": [
        "we_es_age_debias = we_es_age.debias(method = 'neutralize' , neutral_words= profesiones, inplace=False)"
      ],
      "execution_count": 20,
      "outputs": [
        {
          "output_type": "stream",
          "name": "stderr",
          "text": [
            "2021-12-05 11:22:33,453 : precomputing L2-norms of word weight vectors\n",
            "2021-12-05 11:22:34,969 : precomputing L2-norms of word weight vectors\n"
          ]
        }
      ]
    },
    {
      "cell_type": "code",
      "metadata": {
        "colab": {
          "base_uri": "https://localhost:8080/"
        },
        "id": "v-HT5aHhTcsL",
        "outputId": "3a3e4de3-c790-41bb-e01d-6b2de8d48f12"
      },
      "source": [
        "we_es_age_debias.calc_direct_bias(profesiones, c=None)\n",
        "#NUMERO DE BIAS MUY CERCA DE CERO (MUY PEQUEÑO)"
      ],
      "execution_count": 22,
      "outputs": [
        {
          "output_type": "execute_result",
          "data": {
            "text/plain": [
              "8.412354748857742e-09"
            ]
          },
          "metadata": {},
          "execution_count": 22
        }
      ]
    },
    {
      "cell_type": "markdown",
      "metadata": {
        "id": "4JJstnspVe1F"
      },
      "source": [
        "# **GRAFICO DE PROFESIONES CON SESGO MITIGADO**"
      ]
    },
    {
      "cell_type": "code",
      "metadata": {
        "colab": {
          "base_uri": "https://localhost:8080/",
          "height": 893
        },
        "id": "NIJTfnqNTcnz",
        "outputId": "c859b6c1-f160-4c0c-c5af-e1fe5fe3c1a3"
      },
      "source": [
        "f, ax = plt.subplots(1, figsize=(15, 15))\n",
        "\n",
        "we_es_age_debias.plot_projection_scores(\n",
        "    profesiones + d_juventud[:1] + d_vejez[:1] ,\n",
        "    n_extreme=50,\n",
        "    ax=ax);"
      ],
      "execution_count": 25,
      "outputs": [
        {
          "output_type": "display_data",
          "data": {
            "image/png": "[encoded data removed]",
            "text/plain": [
              "<Figure size 1080x1080 with 1 Axes>"
            ]
          },
          "metadata": {
            "needs_background": "light"
          }
        }
      ]
    },
    {
      "cell_type": "markdown",
      "metadata": {
        "id": "hozkEv7lTcOz"
      },
      "source": [
        "# **CONCLUSION: HAN DESAPARECIDO DEL GRAFICO LAS DIRECCIONES QUE SE OBSERVABAN ANTERIORMENTE LO QUE CONFIRMA EL BAJO VALOR DE BIAS CALCULADO (8.412354748857742e-09)**"
      ]
    }
  ]
}
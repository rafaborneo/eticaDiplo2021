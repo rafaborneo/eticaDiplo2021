{
  "nbformat": 4,
  "nbformat_minor": 0,
  "metadata": {
    "colab": {
      "name": "BorneoRafael_Practico2_ETICA_DIPLO2021.ipynb",
      "provenance": [],
      "authorship_tag": "ABX9TyNUFXaxoAeuTpOdwpjEu7Rz",
      "include_colab_link": true
    },
    "kernelspec": {
      "name": "python3",
      "display_name": "Python 3"
    },
    "language_info": {
      "name": "python"
    }
  },
  "cells": [
    {
      "cell_type": "markdown",
      "metadata": {
        "id": "view-in-github",
        "colab_type": "text"
      },
      "source": [
        "<a href=\"https://colab.research.google.com/github/rafaborneo/eticaDiplo2021/blob/main/BorneoRafael_Practico2_ETICA_DIPLO2021.ipynb\" target=\"_parent\"><img src=\"https://colab.research.google.com/assets/colab-badge.svg\" alt=\"Open In Colab\"/></a>"
      ]
    },
    {
      "cell_type": "markdown",
      "metadata": {
        "id": "x0hU0gJrisJI"
      },
      "source": [
        "## **PRACTICO 2 ETICA  DILODATOS 2021**\n",
        "\n",
        "# **RAFAEL BORNEO BENISTA**\n",
        "\n",
        "Tutorial práctico [notebook] basado en el tutorial Exploring Gender Bias in Word Embeddings (y su notebook), y la adaptación al castellano de Lucía González que aplica las herramientas de Responsibly, creado por Shlomi Hod, para mitigar sesgo de género en word embeddings.\n",
        "\n",
        "\n",
        "\n",
        "Objetivo del práctico: formalicen otro atributo protegido para mitigar el sesgo sobre ese atributo. \n",
        "\n",
        "1.\tPiensen un atributo que se pueda representar como binario (incluso si eso es una sobresimplificación): blanco - negro, rico - pobre, alto - bajo. \n",
        "\n",
        "2.\tRepresenten ese eje en el espacio de embeddings, con dos extremos representados por una o más palabras.\n",
        "\n",
        "3.\tEncuentren palabras que según sus valores deberían ser neutras con respecto a ese eje pero no lo son, muestren que no lo son con el gráfico de barras centrado en el 0 del eje binario obtenido en 2.\n",
        "\n",
        "4.\tNeutralicen las palabras de 3. para que queden centradas en el 0 del eje binario, muestren cómo quedan centradas con el gráfico de barras.\n",
        "\n",
        "Fecha de entrega: 6 de diciembre 2021\n",
        "\n"
      ]
    },
    {
      "cell_type": "markdown",
      "metadata": {
        "id": "YcjEW4vTi9Ze"
      },
      "source": [
        "\n",
        "**SE EXPLORARA EL SESGO POSIBLE DE PERTENECER A UN GRUPO ETNICO PARTICULAR (CAUCASICOS-AFROAMERICANOS). BLANCOS-NEGROS para simplificar. DESCARGO: el sesgo racial seguramente NO ES BINARIO ya que existen multiples grupos etnicos en una sociedad. PARA SIMPLIFICAR SE ASUME QUE ES BINARIO**"
      ]
    },
    {
      "cell_type": "code",
      "metadata": {
        "colab": {
          "base_uri": "https://localhost:8080/",
          "height": 733
        },
        "id": "bZcCbG5Y_DFG",
        "outputId": "26b3956e-6fdf-4e97-c8a3-e1d4652b2511"
      },
      "source": [
        "#instalacion libreria \n",
        "#HAY que REINICIAR ENTORNO DE EJECUCION DESPUES DE LA INSTALACION \n",
        "!pip install --user responsibly"
      ],
      "execution_count": null,
      "outputs": [
        {
          "output_type": "stream",
          "name": "stdout",
          "text": [
            "Collecting responsibly\n",
            "  Downloading responsibly-0.1.3-py3-none-any.whl (28.2 MB)\n",
            "\u001b[K     |████████████████████████████████| 28.2 MB 40.4 MB/s \n",
            "\u001b[?25hRequirement already satisfied: mlxtend<0.17,>=0.13 in /usr/local/lib/python3.7/dist-packages (from responsibly) (0.14.0)\n",
            "Collecting gensim<3.8,>=3.7\n",
            "  Downloading gensim-3.7.3-cp37-cp37m-manylinux1_x86_64.whl (24.2 MB)\n",
            "\u001b[K     |████████████████████████████████| 24.2 MB 1.4 MB/s \n",
            "\u001b[?25hRequirement already satisfied: pandas>=0.23 in /usr/local/lib/python3.7/dist-packages (from responsibly) (1.1.5)\n",
            "Requirement already satisfied: six>=1.10 in /usr/local/lib/python3.7/dist-packages (from responsibly) (1.15.0)\n",
            "Collecting matplotlib<3,>=2.2\n",
            "  Downloading matplotlib-2.2.5-cp37-cp37m-manylinux1_x86_64.whl (12.8 MB)\n",
            "\u001b[K     |████████████████████████████████| 12.8 MB 43.2 MB/s \n",
            "\u001b[?25hRequirement already satisfied: seaborn>=0.9 in /usr/local/lib/python3.7/dist-packages (from responsibly) (0.11.2)\n",
            "Requirement already satisfied: tabulate>=0.8 in /usr/local/lib/python3.7/dist-packages (from responsibly) (0.8.9)\n",
            "Requirement already satisfied: scipy>=1.1 in /usr/local/lib/python3.7/dist-packages (from responsibly) (1.4.1)\n",
            "Requirement already satisfied: scikit-learn>=0.19 in /usr/local/lib/python3.7/dist-packages (from responsibly) (1.0.1)\n",
            "Requirement already satisfied: tqdm>=4.24 in /usr/local/lib/python3.7/dist-packages (from responsibly) (4.62.3)\n",
            "Requirement already satisfied: numpy>=1.15 in /usr/local/lib/python3.7/dist-packages (from responsibly) (1.19.5)\n",
            "Requirement already satisfied: click>=6.0 in /usr/local/lib/python3.7/dist-packages (from responsibly) (7.1.2)\n",
            "Requirement already satisfied: smart-open>=1.7.0 in /usr/local/lib/python3.7/dist-packages (from gensim<3.8,>=3.7->responsibly) (5.2.1)\n",
            "Requirement already satisfied: python-dateutil>=2.1 in /usr/local/lib/python3.7/dist-packages (from matplotlib<3,>=2.2->responsibly) (2.8.2)\n",
            "Requirement already satisfied: kiwisolver>=1.0.1 in /usr/local/lib/python3.7/dist-packages (from matplotlib<3,>=2.2->responsibly) (1.3.2)\n",
            "Requirement already satisfied: cycler>=0.10 in /usr/local/lib/python3.7/dist-packages (from matplotlib<3,>=2.2->responsibly) (0.11.0)\n",
            "Requirement already satisfied: pyparsing!=2.0.4,!=2.1.2,!=2.1.6,>=2.0.1 in /usr/local/lib/python3.7/dist-packages (from matplotlib<3,>=2.2->responsibly) (3.0.6)\n",
            "Requirement already satisfied: pytz in /usr/local/lib/python3.7/dist-packages (from matplotlib<3,>=2.2->responsibly) (2018.9)\n",
            "Requirement already satisfied: setuptools in /usr/local/lib/python3.7/dist-packages (from mlxtend<0.17,>=0.13->responsibly) (57.4.0)\n",
            "Requirement already satisfied: threadpoolctl>=2.0.0 in /usr/local/lib/python3.7/dist-packages (from scikit-learn>=0.19->responsibly) (3.0.0)\n",
            "Requirement already satisfied: joblib>=0.11 in /usr/local/lib/python3.7/dist-packages (from scikit-learn>=0.19->responsibly) (1.1.0)\n",
            "Installing collected packages: matplotlib, gensim, responsibly\n",
            "\u001b[31mERROR: pip's dependency resolver does not currently take into account all the packages that are installed. This behaviour is the source of the following dependency conflicts.\n",
            "plotnine 0.6.0 requires matplotlib>=3.1.1, but you have matplotlib 2.2.5 which is incompatible.\n",
            "mizani 0.6.0 requires matplotlib>=3.1.1, but you have matplotlib 2.2.5 which is incompatible.\n",
            "arviz 0.11.4 requires matplotlib>=3.0, but you have matplotlib 2.2.5 which is incompatible.\n",
            "albumentations 0.1.12 requires imgaug<0.2.7,>=0.2.5, but you have imgaug 0.2.9 which is incompatible.\u001b[0m\n",
            "Successfully installed gensim-3.7.3 matplotlib-2.2.5 responsibly-0.1.3\n"
          ]
        },
        {
          "output_type": "display_data",
          "data": {
            "application/vnd.colab-display-data+json": {
              "pip_warning": {
                "packages": [
                  "matplotlib",
                  "mpl_toolkits"
                ]
              }
            }
          },
          "metadata": {}
        }
      ]
    },
    {
      "cell_type": "code",
      "metadata": {
        "colab": {
          "base_uri": "https://localhost:8080/",
          "height": 35
        },
        "id": "pW2W474L_XxV",
        "outputId": "c07ef519-c95b-40a2-bffd-c1551d450176"
      },
      "source": [
        "import responsibly\n",
        "\n",
        "responsibly.__version__"
      ],
      "execution_count": null,
      "outputs": [
        {
          "output_type": "execute_result",
          "data": {
            "application/vnd.google.colaboratory.intrinsic+json": {
              "type": "string"
            },
            "text/plain": [
              "'0.1.3'"
            ]
          },
          "metadata": {},
          "execution_count": 1
        }
      ]
    },
    {
      "cell_type": "code",
      "metadata": {
        "id": "qV1B2Bht_paX"
      },
      "source": [
        "\n",
        "# ignorar warnings\n",
        "\n",
        "\n",
        "import warnings\n",
        "warnings.filterwarnings('ignore')\n"
      ],
      "execution_count": null,
      "outputs": []
    },
    {
      "cell_type": "code",
      "metadata": {
        "colab": {
          "base_uri": "https://localhost:8080/"
        },
        "id": "SXHrxao6juBn",
        "outputId": "9e3777b4-1a95-46cf-f841-ba4b6004e2aa"
      },
      "source": [
        "from responsibly.we import load_w2v_small\n",
        "\n",
        "w2v_small = load_w2v_small()\n",
        "# tamaño del vocabulario\n",
        "\n",
        "len(w2v_small.vocab)"
      ],
      "execution_count": null,
      "outputs": [
        {
          "output_type": "execute_result",
          "data": {
            "text/plain": [
              "26423"
            ]
          },
          "metadata": {},
          "execution_count": 3
        }
      ]
    },
    {
      "cell_type": "code",
      "metadata": {
        "id": "m4yoMOMUmskz"
      },
      "source": [
        "#La clase responsibly.we.BiasWordEmbedding. GenderBiasWE es una subclase de BiasWordEmbedding.\n",
        "\n",
        "from responsibly.we import BiasWordEmbedding\n",
        "\n",
        "w2v_small_racial_bias = BiasWordEmbedding(w2v_small, only_lower=True, verbose=True)#"
      ],
      "execution_count": null,
      "outputs": []
    },
    {
      "cell_type": "markdown",
      "metadata": {
        "id": "3OTNOVOSnHgo"
      },
      "source": [
        "Lei un articulo del 2015 (https://abcnews.go.com/2020/top-20-whitest-blackest-names/story?id=2470131) donde dice que  aquellos currículos que tienen nombre que suenan mas a gente de origen caucásico(blancos) tiene mas chances de ser bajados por empleadores que buscan candidatos que aquellos CVs que tienen nombres que suenan mas a gente de origen afro-americanos (negros) . Entonces, la idea en este practico es explorar sesgo racial (asumiendo que es un problema binario: blanco-negro, que no lo es por que hay mas de dos “razas”)."
      ]
    },
    {
      "cell_type": "markdown",
      "metadata": {
        "id": "uwhZH1jrnWhp"
      },
      "source": [
        "***Voy a intentar usar los nombre reportados en el articulo (80 nombres) para establecer la direccion racial usando el metodo sum***\n"
      ]
    },
    {
      "cell_type": "code",
      "metadata": {
        "id": "uRtWikGn5mHx"
      },
      "source": [
        "#white_common_names = [\"Jake\",\"Connor\", \n",
        "#\"Tanner\", \"Wyat\", \"Cody\", \"Dustin\", \"Luke\", \"Jack\", \"Scott\", \"Logan\", \n",
        "#\"Cole\", \n",
        "#\"Lucas\", \n",
        "#\"Bradley\", \n",
        "#\"Jacob\", \"Garret\", \"Dylan\", \"Maxwell\", \"Hunter\", \"Brett\", \"Colin\",#\n",
        " #\"Molly\", \"Amy\", \"Claire\", \"Emily\", \"Katie\",  \"Madeline\", \n",
        " #\"Katelyn\", \"Emma\", \"Abigail\", \"Carly\", \"Jenna\",  \n",
        " #\"Heather\", \"Katherine\", \"Caitlin\", \"Kaitlin\", \"Holly\", \"Allison\", \"Kaitlyn\", \"Hannah\", \"Kathryn\"]\n",
        "                      ]"
      ],
      "execution_count": null,
      "outputs": []
    },
    {
      "cell_type": "code",
      "metadata": {
        "id": "YZsiYGcp7pcN"
      },
      "source": [
        "#black_common_names = [\"DeShawn\", \"DeAndre\", \"Marquis\", \"Darnell\", \"Terrell\", \"Malik\", \"Trevon\", \"Tyrone\", \"Willie\", \n",
        "                     # \"Dominique\", \"Demetrius\", \"Reginald\", \"Jamal\", \"Maurice\", \"Jalen\", \"Darius\", \"Xavier\", \"Terrance\", \"Andre\", \n",
        "                     # \"Darryl\", \"Imani\", \"Ebony\", \"Shanice\", \"Aaliyah\",  \"Precious\", \"Nia\", \"Deja\", \"Diamond\", \"Asia\",  \"Aliyah\", \"Jada\", \n",
        "                     # \"Tierra\", \"Tiara\",  \"Kiara\", \"Jazmine\", \"Jasmin\", \"Jazmin\", \"Jasmine\",  \"Alexus\",  \"Raven\"]"
      ],
      "execution_count": null,
      "outputs": []
    },
    {
      "cell_type": "code",
      "metadata": {
        "colab": {
          "base_uri": "https://localhost:8080/"
        },
        "id": "6HmTN9vgU0mg",
        "outputId": "fd64de82-f109-42f2-d92e-6028255ade9a"
      },
      "source": [
        "white_common_names = ['Emily', 'Anne', 'Jill', 'Allison', 'Laurie', 'Sarah', 'Meredith', 'Carrie',\n",
        "                      'Kristen', 'Todd', 'Neil', 'Geoffrey', 'Brett', 'Brendan', 'Greg', 'Matthew',\n",
        "                      'Jay', 'Brad']\n",
        "\n",
        "black_common_names = ['Aisha', 'Keisha', 'Tamika', 'Lakisha', 'Tanisha', 'Latoya', 'Kenya', 'Latonya',\n",
        "                      'Ebony', 'Rasheed', 'Tremayne', 'Kareem', 'Darnell', 'Tyrone', 'Hakim', 'Jamal',\n",
        "                      'Leroy', 'Jermaine']\n",
        "\n",
        "w2v_small_racial_bias._identify_direction('Whites', 'Blacks',\n",
        "                                          definitional=(white_common_names, black_common_names),\n",
        "                                          method='sum')"
      ],
      "execution_count": null,
      "outputs": [
        {
          "output_type": "stream",
          "name": "stdout",
          "text": [
            "Identify direction using sum method...\n"
          ]
        }
      ]
    },
    {
      "cell_type": "code",
      "metadata": {
        "id": "vn8gVv9kU0aE"
      },
      "source": [
        "#Usar los nombres de profesiones neutros para medir el sesgo racial.\n",
        "from responsibly.we.data import BOLUKBASI_DATA"
      ],
      "execution_count": null,
      "outputs": []
    },
    {
      "cell_type": "code",
      "metadata": {
        "colab": {
          "base_uri": "https://localhost:8080/"
        },
        "id": "t5N0_HYdWGqP",
        "outputId": "46e1c873-044f-4669-deb0-20588a338cdd"
      },
      "source": [
        "neutral_profession_names = w2v_small_racial_bias._filter_words_by_model(BOLUKBASI_DATA['gender']['neutral_profession_names'])\n",
        "len(neutral_profession_names)"
      ],
      "execution_count": null,
      "outputs": [
        {
          "output_type": "execute_result",
          "data": {
            "text/plain": [
              "303"
            ]
          },
          "metadata": {},
          "execution_count": 13
        }
      ]
    },
    {
      "cell_type": "code",
      "metadata": {
        "colab": {
          "base_uri": "https://localhost:8080/",
          "height": 295
        },
        "id": "m3CeMf11WdM_",
        "outputId": "3877d669-3ebf-49c3-8b37-bf3d211bfa99"
      },
      "source": [
        "w2v_small_racial_bias.plot_dist_projections_on_direction({'neutral_profession_names': neutral_profession_names,\n",
        "                                                 'Whites': white_common_names,\n",
        "                                                 'Blacks': black_common_names});\n",
        "### Puede verse que los nombres tienen un sesgo racial ya que se inclinan a un lado o al otro del cero (neutro)"
      ],
      "execution_count": null,
      "outputs": [
        {
          "output_type": "display_data",
          "data": {
            "image/png": "[encoded data removed]",
            "text/plain": [
              "<Figure size 432x288 with 1 Axes>"
            ]
          },
          "metadata": {
            "needs_background": "light"
          }
        }
      ]
    },
    {
      "cell_type": "markdown",
      "metadata": {
        "id": "oOHbcPz_Xs4a"
      },
      "source": [
        "COMO HAY SESGO EVIDENTE EN EL NOMBRE, ME REGUNTO: HABRA SESGO RACIAL (CAUCASICO/BLANCO VS AFROMERICANO/NEGRO) EN LAS PROFESIONES?? OSEA HABRA PROFESIONES MAS \"APTAS\" ppRA BLANCOS? HABRA OTRAS PROFESIONES MAS APTAS PARA NEGROS?"
      ]
    },
    {
      "cell_type": "code",
      "metadata": {
        "colab": {
          "base_uri": "https://localhost:8080/",
          "height": 621
        },
        "id": "B9y2o2-lYJr0",
        "outputId": "20afbd1a-d1ea-4624-8cb3-80daca64e23e"
      },
      "source": [
        "#GRAFICO 10 PROFESIONES (que son neutras) SOBRE EL EJE \"RACIAL\" (EXTREMOS WHITE BLACK)\n",
        "\n",
        "import matplotlib.pylab as plt\n",
        "f, ax = plt.subplots(figsize=(10, 10))\n",
        "w2v_small_racial_bias.plot_projection_scores(neutral_profession_names, 10, ax=ax);\n",
        "#LUEGO DE GRAFICAR PUEDE VERSE QUE EFECTIVAMENTE LAS PROFESIONES TIENEN SESGO RACIAL, SIENDO ARQUITECTO MAS PARA BLANCOS, MIENTRAS QUE\n",
        "#(Taxista(Cab driver) mas para negros. PARECIERA QUE LAS PROFESIONES MAS NEUTRALES SON PARA BLANCOS"
      ],
      "execution_count": null,
      "outputs": [
        {
          "output_type": "display_data",
          "data": {
            "image/png": "[encoded data removed]",
            "text/plain": [
              "<Figure size 720x720 with 1 Axes>"
            ]
          },
          "metadata": {
            "needs_background": "light"
          }
        }
      ]
    },
    {
      "cell_type": "markdown",
      "metadata": {
        "id": "eIsfluOAZn9V"
      },
      "source": [
        "LUEGO DE GRAFICAR PUEDE VERSE QUE EFECTIVAMENTE LAS PROFESIONES TIENEN SESGO RACIAL. PARECIERA QUE LOS BLANCOS TIENEN PROFESIONES MAS INTELECTUALES (AUTOR; ARQUITECTO, HISTORIADOR, NATURISTA ETC),MIENTRaS QUE LOS AFROMERICANOS PROFESIONES MENOS INTELECTUALES (BOXEADOR, TAXISTA, REVERENDO, BARBERO, ETC)"
      ]
    },
    {
      "cell_type": "markdown",
      "metadata": {
        "id": "LLdzcLsMbQWA"
      },
      "source": [
        "# **calculo sesgo directo**"
      ]
    },
    {
      "cell_type": "code",
      "metadata": {
        "colab": {
          "base_uri": "https://localhost:8080/"
        },
        "id": "FzYmc5sjafJ2",
        "outputId": "77a88120-be32-428b-fbce-8161f5ca7c9f"
      },
      "source": [
        "# w2v_small_racial_bias.calc_direct_bias()\n",
        "neutral_racial_projections = [w2v_small[word] @ w2v_small_racial_bias.direction\n",
        "                                  for word in neutral_profession_names]\n",
        "\n",
        "abs_neutral_racial_projections = [abs(proj) for proj in neutral_racial_projections]\n",
        "\n",
        "sum(abs_neutral_racial_projections) / len(abs_neutral_racial_projections)"
      ],
      "execution_count": null,
      "outputs": [
        {
          "output_type": "execute_result",
          "data": {
            "text/plain": [
              "0.05703133966989578"
            ]
          },
          "metadata": {},
          "execution_count": 19
        }
      ]
    },
    {
      "cell_type": "code",
      "metadata": {
        "colab": {
          "base_uri": "https://localhost:8080/"
        },
        "id": "KN-z-9nfafGE",
        "outputId": "a129e86a-8c39-41bb-95e4-20fbbb24c4b5"
      },
      "source": [
        "#uso un nombre comun para negro (RASHIED) Y ARQUITECTO\n",
        "w2v_small_racial_bias.model['Rasheed'] @ w2v_small_racial_bias.model['architect']"
      ],
      "execution_count": null,
      "outputs": [
        {
          "output_type": "execute_result",
          "data": {
            "text/plain": [
              "0.02917136"
            ]
          },
          "metadata": {},
          "execution_count": 21
        }
      ]
    },
    {
      "cell_type": "code",
      "metadata": {
        "colab": {
          "base_uri": "https://localhost:8080/"
        },
        "id": "2F9T8rOoafEB",
        "outputId": "3d19bad4-c968-48a2-f372-668fc743f01e"
      },
      "source": [
        "#uso un nombre comun para BLANCO(greg) Y ARQUITECTO\n",
        "w2v_small_racial_bias.model['Greg'] @ w2v_small_racial_bias.model['architect']"
      ],
      "execution_count": null,
      "outputs": [
        {
          "output_type": "execute_result",
          "data": {
            "text/plain": [
              "0.122917295"
            ]
          },
          "metadata": {},
          "execution_count": 22
        }
      ]
    },
    {
      "cell_type": "markdown",
      "metadata": {
        "id": "sDJD_iL3csmt"
      },
      "source": [
        "notese QUE ALL USAR UN NOMBRE COMUN DE BLANCO (greg) PARA ARQUITECTO EL SCORE DE SESGO SE HACEMAS POSITIVO OSEA INCLINA HACIA EL EXTREMO DE BLANCOS"
      ]
    },
    {
      "cell_type": "code",
      "metadata": {
        "colab": {
          "base_uri": "https://localhost:8080/"
        },
        "id": "BHP572UDcrfn",
        "outputId": "49f3e9dd-0c75-41e8-ed10-2aec3d6606dc"
      },
      "source": [
        "#que pasa si ponemos nombre de mujeres blanca (emily) y negras(keisha) EFTO MAS PRONUNCIADO?????\n",
        "w2v_small_racial_bias.model['Emily'] @ w2v_small_racial_bias.model['architect'], w2v_small_racial_bias.model['Keisha'] @ w2v_small_racial_bias.model['architect']"
      ],
      "execution_count": null,
      "outputs": [
        {
          "output_type": "execute_result",
          "data": {
            "text/plain": [
              "(0.02792712, -0.065241784)"
            ]
          },
          "metadata": {},
          "execution_count": 23
        }
      ]
    },
    {
      "cell_type": "markdown",
      "metadata": {
        "id": "3XHcRwBOgcc6"
      },
      "source": [
        "**NUETRALIZACION PARA MITIGAR SESGO** se usara la lista de profesiones neutras para plicar el debias\n"
      ]
    },
    {
      "cell_type": "code",
      "metadata": {
        "id": "Bx4H8wVoafAb"
      },
      "source": [
        "neutral_profession_names = w2v_small_racial_bias._filter_words_by_model(BOLUKBASI_DATA['gender']['neutral_profession_names'])"
      ],
      "execution_count": null,
      "outputs": []
    },
    {
      "cell_type": "code",
      "metadata": {
        "colab": {
          "base_uri": "https://localhost:8080/"
        },
        "id": "0be7NaeyhrxG",
        "outputId": "a413445c-1510-4290-9102-cf18e0cd2678"
      },
      "source": [
        "w2v_small_racial_debias = w2v_small_racial_bias.debias(method = 'neutralize' , neutral_words= neutral_profession_names, inplace=False)"
      ],
      "execution_count": null,
      "outputs": [
        {
          "output_type": "stream",
          "name": "stdout",
          "text": [
            "Neutralize...\n"
          ]
        },
        {
          "output_type": "stream",
          "name": "stderr",
          "text": [
            "100%|██████████| 303/303 [00:00<00:00, 13453.39it/s]\n"
          ]
        }
      ]
    },
    {
      "cell_type": "markdown",
      "metadata": {
        "id": "HASx0d6nhIdQ"
      },
      "source": [
        "**VER SI CAMBIO EL SCORE EN PROFESIONES (DISTANCIA)**"
      ]
    },
    {
      "cell_type": "code",
      "metadata": {
        "colab": {
          "base_uri": "https://localhost:8080/"
        },
        "id": "zn1_HUoDae4-",
        "outputId": "81d97c02-adc2-4a65-c66d-a1615093e4c8"
      },
      "source": [
        "#nomre comun blancos (greg)\n",
        "w2v_small_racial_debias.model['Greg'] @ w2v_small_racial_debias.model['architect']\n",
        "#para el nombre GREG la distancia se acerco a cero osea se volvio mas neutra (se ha reducido el sesgo?)\n"
      ],
      "execution_count": null,
      "outputs": [
        {
          "output_type": "execute_result",
          "data": {
            "text/plain": [
              "0.054918095"
            ]
          },
          "metadata": {},
          "execution_count": 29
        }
      ]
    },
    {
      "cell_type": "code",
      "metadata": {
        "colab": {
          "base_uri": "https://localhost:8080/"
        },
        "id": "btiV_oJaae6p",
        "outputId": "e9d61c16-7335-437e-8bcb-4d7b682ba8a5"
      },
      "source": [
        "#Nombre comun negros (rasheed)\n",
        "w2v_small_racial_debias.model['Rasheed'] @ w2v_small_racial_debias.model['architect']\n",
        "#para el nombre Rasheed el score cambió hacia laderecha (+ white)\n",
        "\n"
      ],
      "execution_count": null,
      "outputs": [
        {
          "output_type": "execute_result",
          "data": {
            "text/plain": [
              "0.09280317"
            ]
          },
          "metadata": {},
          "execution_count": 30
        }
      ]
    },
    {
      "cell_type": "code",
      "metadata": {
        "colab": {
          "base_uri": "https://localhost:8080/",
          "height": 621
        },
        "id": "f7991isYj91N",
        "outputId": "b6928dd8-671d-4629-d43c-d026efe93f6c"
      },
      "source": [
        "\n",
        "f, ax = plt.subplots(figsize=(10, 10))\n",
        "w2v_small_racial_debias.plot_projection_scores(neutral_profession_names, 10, ax=ax);\n",
        "#NO APARECEN LAS PROFESIONES SEGADAS COMO SUCEDIA ANTERIORMENTE"
      ],
      "execution_count": null,
      "outputs": [
        {
          "output_type": "display_data",
          "data": {
            "image/png": "[encoded data removed]",
            "text/plain": [
              "<Figure size 720x720 with 1 Axes>"
            ]
          },
          "metadata": {
            "needs_background": "light"
          }
        }
      ]
    },
    {
      "cell_type": "code",
      "metadata": {
        "id": "HuyF2Wptl9-f"
      },
      "source": [
        ""
      ],
      "execution_count": null,
      "outputs": []
    },
    {
      "cell_type": "markdown",
      "metadata": {
        "id": "ASKHJSv9i-rZ"
      },
      "source": [
        "GRAFICAR LAS PROYECCIONES DE ALGUNAS ALGUNAS PALABRAS"
      ]
    },
    {
      "cell_type": "code",
      "metadata": {
        "colab": {
          "base_uri": "https://localhost:8080/",
          "height": 621
        },
        "id": "IlgnJQymkAGI",
        "outputId": "73b77101-3b44-40c3-804a-f28715fa9362"
      },
      "source": [
        "#PALABRAS SUCCESS (EXITO), Business, Jail,  assasin\n",
        "f, ax = plt.subplots(1, figsize=(10, 10))\n",
        "w2v_small_racial_debias.plot_projection_scores(['jail' ,'guilty',\n",
        "                                                'business', 'success'\n",
        "                                                ], n_extreme=40, ax=ax);\n",
        "#SUCCESS y BUSINESS ESTA SESGADO A BLANCOS MIENTRAS QUE JAIL Y GUILTY A NEGROS"
      ],
      "execution_count": null,
      "outputs": [
        {
          "output_type": "display_data",
          "data": {
            "image/png": "[encoded data removed]",
            "text/plain": [
              "<Figure size 720x720 with 1 Axes>"
            ]
          },
          "metadata": {
            "needs_background": "light"
          }
        }
      ]
    }
  ]
}